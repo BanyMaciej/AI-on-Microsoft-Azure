{
 "cells": [
  {
   "cell_type": "code",
   "execution_count": null,
   "metadata": {},
   "outputs": [],
   "source": [
    "import os\n",
    "\n",
    "from azure.cognitiveservices.vision.customvision.training import CustomVisionTrainingClient \n",
    "from azure.cognitiveservices.vision.customvision.training.models import ImageFileCreateBatch, ImageFileCreateEntry, Region\n",
    "from msrest.authentication import ApiKeyCredentials\n",
    "\n",
    "import xml.dom.minidom"
   ]
  },
  {
   "cell_type": "code",
   "execution_count": 2,
   "metadata": {},
   "outputs": [],
   "source": [
    "cv_endpoint = \"***\" # get endpoint from https://www.customvision.ai/\n",
    "training_key = \"***\" # get training key from https://www.customvision.ai/ \n",
    "project_id = \"***\" # get project id from https://www.customvision.ai/ \n",
    "images_dir = \"Images\" # extracted images.tar directory - http://vision.stanford.edu/aditya86/ImageNetDogs/images.tar\n",
    "annotations_dir = \"Annotation\" # extracted annotation.tar directory - http://vision.stanford.edu/aditya86/ImageNetDogs/annotation.tar"
   ]
  },
  {
   "cell_type": "code",
   "execution_count": 3,
   "metadata": {},
   "outputs": [],
   "source": [
    "ids_dict = {dirname.split('-')[0]: dirname.split('-')[1] for dirname in os.listdir(images_dir)}"
   ]
  },
  {
   "cell_type": "code",
   "execution_count": 4,
   "metadata": {},
   "outputs": [
    {
     "data": {
      "text/plain": [
       "'AiOnAzureDogs'"
      ]
     },
     "execution_count": 4,
     "metadata": {},
     "output_type": "execute_result"
    }
   ],
   "source": [
    "credentials = ApiKeyCredentials(in_headers={\"Training-key\": training_key})\n",
    "trainer = CustomVisionTrainingClient(cv_endpoint, credentials)\n",
    "project = trainer.get_project(project_id)\n",
    "project.name"
   ]
  },
  {
   "cell_type": "code",
   "execution_count": 5,
   "metadata": {},
   "outputs": [
    {
     "name": "stdout",
     "output_type": "stream",
     "text": [
      "Found 120 existsing tags\n"
     ]
    }
   ],
   "source": [
    "existing_tags = trainer.get_tags(project.id)\n",
    "print('Found %d existsing tags' % len(existing_tags))"
   ]
  },
  {
   "cell_type": "code",
   "execution_count": 6,
   "metadata": {},
   "outputs": [
    {
     "name": "stdout",
     "output_type": "stream",
     "text": [
      "120 tags loaded\n"
     ]
    }
   ],
   "source": [
    "tags = []\n",
    "for tag_name in ids_dict.values():\n",
    "    maybe_tag = [tag for tag in existing_tags if tag.name == tag_name]\n",
    "    if maybe_tag:\n",
    "        tags.append(maybe_tag[0])\n",
    "    else:\n",
    "        new_tag = trainer.create_tag(project.id, tag_name)\n",
    "        tags.append(new_tag)\n",
    "print('%d tags loaded' % len(tags))"
   ]
  },
  {
   "cell_type": "code",
   "execution_count": 7,
   "metadata": {},
   "outputs": [
    {
     "name": "stdout",
     "output_type": "stream",
     "text": [
      "Created 20580 images\n"
     ]
    }
   ],
   "source": [
    "images = []\n",
    "for dir_name in os.listdir(images_dir):\n",
    "    images_dir_path = os.path.join(images_dir, dir_name)\n",
    "    annotations_dir_path = os.path.join(annotations_dir, dir_name)\n",
    "    tag_name = dir_name.split('-')[1]\n",
    "    tag = [t for t in tags if t.name == tag_name][0]\n",
    "      \n",
    "    for image_filename in os.listdir(images_dir_path):\n",
    "        image_name = image_filename.split('.')[0]\n",
    "        image_path = os.path.join(images_dir_path, image_filename)\n",
    "        annotation_path = os.path.join(annotations_dir_path, image_name)\n",
    "        annotation_xml = xml.dom.minidom.parse(annotation_path)\n",
    "        \n",
    "        object_xml = annotation_xml.getElementsByTagName('object')[0]\n",
    "        breed = object_xml.getElementsByTagName('name')[0].firstChild.nodeValue\n",
    "        left = int(object_xml.getElementsByTagName('xmin')[0].firstChild.nodeValue)\n",
    "        top = int(object_xml.getElementsByTagName('ymin')[0].firstChild.nodeValue)\n",
    "        width = int(object_xml.getElementsByTagName('xmax')[0].firstChild.nodeValue) - left\n",
    "        height = int(object_xml.getElementsByTagName('ymax')[0].firstChild.nodeValue) - top\n",
    "        \n",
    "        region = Region(tag_id=tag.id, left=left, top=top, width=width, height=height)\n",
    "        with open(image_path, mode=\"rb\") as image_contents:\n",
    "            azure_image = ImageFileCreateEntry(name=image_name, contents=image_contents.read(), regions=[region])\n",
    "            images.append(azure_image)\n",
    "        \n",
    "print('Created %d images' % len(images))"
   ]
  },
  {
   "cell_type": "code",
   "execution_count": 10,
   "metadata": {},
   "outputs": [
    {
     "name": "stdout",
     "output_type": "stream",
     "text": [
      "uploaded 20491 images\n"
     ]
    }
   ],
   "source": [
    "from math import ceil\n",
    "import time\n",
    "\n",
    "batch_size = 50\n",
    "for batch_idx in range(ceil(len(images)/batch_size)):\n",
    "    min_idx = batch_idx*batch_size\n",
    "    max_idx = min([(batch_idx+1)*batch_size, len(images)])\n",
    "    \n",
    "    upload_result = trainer.create_images_from_files(project.id, ImageFileCreateBatch(images=images[min_idx:max_idx]))\n",
    "    if not upload_result.is_batch_successful:\n",
    "        print(\"Image batch upload failed. Batch idx: %d\" % batch_idx)\n",
    "        for image in upload_result.images:\n",
    "            if image.status != 'OK':\n",
    "                print(\"Image \", image.id, \", status: \", image.status)\n",
    "    time.sleep(1)\n",
    "\n",
    "print('uploaded %d images' % trainer.get_image_count(project.id))"
   ]
  }
 ],
 "metadata": {
  "kernelspec": {
   "display_name": "Python 3",
   "language": "python",
   "name": "python3"
  },
  "language_info": {
   "codemirror_mode": {
    "name": "ipython",
    "version": 3
   },
   "file_extension": ".py",
   "mimetype": "text/x-python",
   "name": "python",
   "nbconvert_exporter": "python",
   "pygments_lexer": "ipython3",
   "version": "3.8.3"
  }
 },
 "nbformat": 4,
 "nbformat_minor": 4
}
